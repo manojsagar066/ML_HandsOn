{
  "nbformat": 4,
  "nbformat_minor": 0,
  "metadata": {
    "colab": {
      "name": "5a.ipynb",
      "provenance": [],
      "collapsed_sections": []
    },
    "kernelspec": {
      "name": "python3",
      "display_name": "Python 3"
    }
  },
  "cells": [
    {
      "cell_type": "code",
      "metadata": {
        "id": "40EyDuZLMhZN"
      },
      "source": [
        "import pandas as pd\n",
        "import numpy as np\n",
        "from sklearn import datasets\n",
        "from sklearn.svm import SVC\n",
        "import matplotlib.pyplot as plt\n",
        "%matplotlib inline\n",
        "from sklearn.preprocessing import StandardScaler"
      ],
      "execution_count": null,
      "outputs": []
    },
    {
      "cell_type": "code",
      "metadata": {
        "id": "yE9Wef8iPKAQ"
      },
      "source": [
        "def plot_decision_boundary(svm_clf, min_x, max_x):\n",
        "  w = svm_clf.coef_[0]\n",
        "  b = svm_clf.intercept_[0]\n",
        "\n",
        "  x0 = np.linspace(min_x, max_x, 200)\n",
        "  decision_boundary = -(w[0]/w[1])*x0 - b/w[1]\n",
        "  margin = 1/w[1]\n",
        "\n",
        "  gutter_up = decision_boundary + margin\n",
        "  gutter_down = decision_boundary - margin\n",
        "\n",
        "  svs = svm_clf.support_vectors_\n",
        "  plt.scatter(svs[:,0], svs[:,1], s=180, facecolors='red')\n",
        "  plt.plot(x0, decision_boundary, \"k-\")\n",
        "  plt.plot(x0, gutter_up, \"k--\")\n",
        "  plt.plot(x0, gutter_down, \"k--\")"
      ],
      "execution_count": null,
      "outputs": []
    },
    {
      "cell_type": "code",
      "metadata": {
        "id": "2qiFPQtWNUry"
      },
      "source": [
        "df = datasets.load_iris()"
      ],
      "execution_count": null,
      "outputs": []
    },
    {
      "cell_type": "code",
      "metadata": {
        "id": "hnadmNU6NacO"
      },
      "source": [
        "X = df['data'][:,[2,3]]"
      ],
      "execution_count": null,
      "outputs": []
    },
    {
      "cell_type": "code",
      "metadata": {
        "id": "_xmDB32MNbbp"
      },
      "source": [
        "Y = df['target']"
      ],
      "execution_count": null,
      "outputs": []
    },
    {
      "cell_type": "code",
      "metadata": {
        "id": "fe3lTfe7Nkp1"
      },
      "source": [
        "svm_clf = SVC(kernel='linear', C=float('inf'))"
      ],
      "execution_count": null,
      "outputs": []
    },
    {
      "cell_type": "code",
      "metadata": {
        "id": "_dZMpoigNwML"
      },
      "source": [
        "setosa_or_versicolor = (Y==0) | (Y==1)"
      ],
      "execution_count": null,
      "outputs": []
    },
    {
      "cell_type": "code",
      "metadata": {
        "id": "GT1TNyCwN37v"
      },
      "source": [
        "X = X[setosa_or_versicolor]\n",
        "Y = Y[setosa_or_versicolor]"
      ],
      "execution_count": null,
      "outputs": []
    },
    {
      "cell_type": "code",
      "metadata": {
        "colab": {
          "base_uri": "https://localhost:8080/"
        },
        "id": "flloWKUROABD",
        "outputId": "49f9bdf7-36d8-4a53-f888-90a58a7dd5c5"
      },
      "source": [
        "svm_clf.fit(X, Y)"
      ],
      "execution_count": null,
      "outputs": [
        {
          "output_type": "execute_result",
          "data": {
            "text/plain": [
              "SVC(C=inf, break_ties=False, cache_size=200, class_weight=None, coef0=0.0,\n",
              "    decision_function_shape='ovr', degree=3, gamma='scale', kernel='linear',\n",
              "    max_iter=-1, probability=False, random_state=None, shrinking=True,\n",
              "    tol=0.001, verbose=False)"
            ]
          },
          "metadata": {
            "tags": []
          },
          "execution_count": 23
        }
      ]
    },
    {
      "cell_type": "code",
      "metadata": {
        "colab": {
          "base_uri": "https://localhost:8080/"
        },
        "id": "nVk3q2i1OCKp",
        "outputId": "cc7188c2-db46-4a4c-ea8b-313811f2dbc1"
      },
      "source": [
        "svm_scaler = StandardScaler()\n",
        "X_scaled = svm_scaler.fit_transform(X)\n",
        "svm_clf.fit(X_scaled,Y)"
      ],
      "execution_count": null,
      "outputs": [
        {
          "output_type": "execute_result",
          "data": {
            "text/plain": [
              "SVC(C=inf, break_ties=False, cache_size=200, class_weight=None, coef0=0.0,\n",
              "    decision_function_shape='ovr', degree=3, gamma='scale', kernel='linear',\n",
              "    max_iter=-1, probability=False, random_state=None, shrinking=True,\n",
              "    tol=0.001, verbose=False)"
            ]
          },
          "metadata": {
            "tags": []
          },
          "execution_count": 24
        }
      ]
    },
    {
      "cell_type": "code",
      "metadata": {
        "colab": {
          "base_uri": "https://localhost:8080/",
          "height": 289
        },
        "id": "Uv6k7PFeOmFR",
        "outputId": "e822e735-0b96-4c9b-b81e-bbfce30059ae"
      },
      "source": [
        "plt.figure(figsize=(12,3.5))\n",
        "\n",
        "plt.plot(X_scaled[:,0][Y==0], X_scaled[:,1][Y==0], \"ms\")\n",
        "plt.plot(X_scaled[:,0][Y==1], X_scaled[:,1][Y==1], \"bo\")\n",
        "plot_decision_boundary(svm_clf, -2, 2)\n",
        "plt.xlabel(\"Petal Width normalized\", fontsize=12)\n",
        "plt.ylabel(\"Petal Length normalized\", fontsize=12)\n",
        "plt.title(\"Scaled\", fontsize=16)\n",
        "plt.axis([-2,2,-2,2])"
      ],
      "execution_count": null,
      "outputs": [
        {
          "output_type": "execute_result",
          "data": {
            "text/plain": [
              "(-2.0, 2.0, -2.0, 2.0)"
            ]
          },
          "metadata": {
            "tags": []
          },
          "execution_count": 29
        },
        {
          "output_type": "display_data",
          "data": {
            "image/png": "[encoded data removed]",
            "text/plain": [
              "<Figure size 864x252 with 1 Axes>"
            ]
          },
          "metadata": {
            "tags": [],
            "needs_background": "light"
          }
        }
      ]
    },
    {
      "cell_type": "code",
      "metadata": {
        "id": "Y4zyMjNkSOWZ"
      },
      "source": [
        ""
      ],
      "execution_count": null,
      "outputs": []
    }
  ]
}