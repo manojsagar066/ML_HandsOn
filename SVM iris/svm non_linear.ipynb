{
  "nbformat": 4,
  "nbformat_minor": 0,
  "metadata": {
    "colab": {
      "name": "5b.ipynb",
      "provenance": [],
      "collapsed_sections": []
    },
    "kernelspec": {
      "name": "python3",
      "display_name": "Python 3"
    }
  },
  "cells": [
    {
      "cell_type": "code",
      "metadata": {
        "id": "CIHEsh2eS4P5"
      },
      "source": [
        "import pandas as pd\n",
        "import matplotlib.pyplot as plt\n",
        "import numpy as np\n",
        "%matplotlib inline\n",
        "from sklearn.datasets import make_moons\n",
        "from sklearn.preprocessing import StandardScaler\n",
        "from sklearn.pipeline import Pipeline\n",
        "from sklearn.svm import SVC\n",
        "from sklearn.preprocessing import PolynomialFeatures"
      ],
      "execution_count": null,
      "outputs": []
    },
    {
      "cell_type": "code",
      "metadata": {
        "id": "rW-fQYm6jjMq"
      },
      "source": [
        "X, y = make_moons(n_samples=100, noise=0.15, random_state=42)"
      ],
      "execution_count": null,
      "outputs": []
    },
    {
      "cell_type": "code",
      "metadata": {
        "colab": {
          "base_uri": "https://localhost:8080/"
        },
        "id": "R-W_yvOPjvJl",
        "outputId": "0848c54f-7dde-4514-ce8d-8994ec67f2b8"
      },
      "source": [
        "y.shape"
      ],
      "execution_count": null,
      "outputs": [
        {
          "output_type": "execute_result",
          "data": {
            "text/plain": [
              "(100,)"
            ]
          },
          "metadata": {
            "tags": []
          },
          "execution_count": 33
        }
      ]
    },
    {
      "cell_type": "code",
      "metadata": {
        "colab": {
          "base_uri": "https://localhost:8080/",
          "height": 283
        },
        "id": "RtVxK-qGjwkE",
        "outputId": "6fa93058-8b41-4726-d7ae-65d0c894b992"
      },
      "source": [
        "def plot_dataset(X, y, axes):\n",
        "  plt.plot(X[:,0][y==0], X[:,1][y==0], \"bs\")\n",
        "  plt.plot(X[:,0][y==1], X[:,1][y==1],\"ms\")\n",
        "  plt.axis(axes)\n",
        "  plt.grid(True, which='both')\n",
        "  plt.xlabel(\"X1\")\n",
        "  plt.ylabel(\"X2\")\n",
        "  plt.show()\n",
        "\n",
        "plot_dataset(X, y, [-1.5, 2.5, -1, 1.5])"
      ],
      "execution_count": null,
      "outputs": [
        {
          "output_type": "display_data",
          "data": {
            "image/png": "[encoded data removed]",
            "text/plain": [
              "<Figure size 432x288 with 1 Axes>"
            ]
          },
          "metadata": {
            "tags": [],
            "needs_background": "light"
          }
        }
      ]
    },
    {
      "cell_type": "code",
      "metadata": {
        "id": "GFAuGnylm7TW"
      },
      "source": [
        "def plot_svm_clf(svm_clf, axes):\n",
        "  x0s = np.linspace(axes[0], axes[1], 100)\n",
        "  x1s = np.linspace(axes[2], axes[3], 100)\n",
        "  x0, x1 = np.meshgrid(x0s, x1s)\n",
        "  X = np.c_[x0.ravel(), x1.ravel()]\n",
        "  y_pred = svm_clf.predict(X).reshape(x0.shape)\n",
        "  plt.contourf(x0, x1, y_pred, cmap=plt.cm.brg, alpha=0.2)"
      ],
      "execution_count": null,
      "outputs": []
    },
    {
      "cell_type": "code",
      "metadata": {
        "colab": {
          "base_uri": "https://localhost:8080/"
        },
        "id": "BJDCCawbkhbx",
        "outputId": "35921d66-d895-4ee9-c54f-addc043c115c"
      },
      "source": [
        "\n",
        "poly_svm_clf=Pipeline((\n",
        "      ('poly_features', PolynomialFeatures(degree=3)),\n",
        "      ('scaler', StandardScaler()),\n",
        "      ('svm', SVC(kernel='poly', degree=10, coef0=1, C=5))\n",
        "  ))\n",
        "\n",
        "poly_svm_clf.fit(X,y)"
      ],
      "execution_count": null,
      "outputs": [
        {
          "output_type": "execute_result",
          "data": {
            "text/plain": [
              "Pipeline(memory=None,\n",
              "         steps=[('poly_features',\n",
              "                 PolynomialFeatures(degree=3, include_bias=True,\n",
              "                                    interaction_only=False, order='C')),\n",
              "                ('scaler',\n",
              "                 StandardScaler(copy=True, with_mean=True, with_std=True)),\n",
              "                ('svm',\n",
              "                 SVC(C=5, break_ties=False, cache_size=200, class_weight=None,\n",
              "                     coef0=1, decision_function_shape='ovr', degree=10,\n",
              "                     gamma='scale', kernel='poly', max_iter=-1,\n",
              "                     probability=False, random_state=None, shrinking=True,\n",
              "                     tol=0.001, verbose=False))],\n",
              "         verbose=False)"
            ]
          },
          "metadata": {
            "tags": []
          },
          "execution_count": 42
        }
      ]
    },
    {
      "cell_type": "code",
      "metadata": {
        "colab": {
          "base_uri": "https://localhost:8080/",
          "height": 283
        },
        "id": "BsNtRzF-l-yB",
        "outputId": "0f1a8f7e-5b85-441e-a869-a28b0ff16943"
      },
      "source": [
        "plt.figure(figsize=(11,4))\n",
        "plot_svm_clf(poly_svm_clf, [-1.5, 2.5, -1, 1.5])\n",
        "\n",
        "plot_dataset(X, y, [-1.5, 2.5, -1, 1.5])\n",
        "\n",
        "plt.show()"
      ],
      "execution_count": null,
      "outputs": [
        {
          "output_type": "display_data",
          "data": {
            "image/png": "[encoded data removed]",
            "text/plain": [
              "<Figure size 792x288 with 1 Axes>"
            ]
          },
          "metadata": {
            "tags": [],
            "needs_background": "light"
          }
        }
      ]
    },
    {
      "cell_type": "code",
      "metadata": {
        "id": "-mp0mlIBovmD"
      },
      "source": [
        ""
      ],
      "execution_count": null,
      "outputs": []
    }
  ]
}